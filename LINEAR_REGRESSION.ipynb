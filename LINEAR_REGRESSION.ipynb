{
  "nbformat": 4,
  "nbformat_minor": 0,
  "metadata": {
    "colab": {
      "name": "LINEAR_REGRESSION.ipynb",
      "provenance": [],
      "collapsed_sections": []
    },
    "kernelspec": {
      "name": "python3",
      "display_name": "Python 3"
    }
  },
  "cells": [
    {
      "cell_type": "code",
      "metadata": {
        "id": "ODUU2N6ALSR8"
      },
      "source": [
        "#regressão linear utilizando o otimizador\n",
        "#definindo as bibliotecas\n",
        "import numpy as np #biblioteca necessária para trabalhar com os vetores e matrizes\n",
        "import scipy #biblioteca necessária para obter as funções de treinamento \n",
        "import matplotlib.pyplot as plt #biblioteca utilizada para construir os gráficos\n",
        "from scipy.optimize import curve_fit #biblioteca necessária para realizar a otimização dos MSE"
      ],
      "execution_count": 1,
      "outputs": []
    },
    {
      "cell_type": "code",
      "metadata": {
        "id": "xq-z1IceLfFl"
      },
      "source": [
        "#definindo as variáveis\n",
        "idade=[18,25,57,45,26,64,37,40,24,33] #variável independente\n",
        "salarioAnual=[15000,29000,68000,52000,32000,80000,41000,45000,26000,33000] #variável dependente\n",
        "\n",
        "xData = np.array(idade)    #transformando a lista em array\n",
        "yData = np.array(salarioAnual) #transformando a lista em array"
      ],
      "execution_count": 2,
      "outputs": []
    },
    {
      "cell_type": "code",
      "metadata": {
        "id": "23qIMoYDL3Ii"
      },
      "source": [
        "#define a função a ser otimizada (regressão simples)\n",
        "def equacaoLinear(x, a, b): \n",
        "    return a * x + b"
      ],
      "execution_count": 3,
      "outputs": []
    },
    {
      "cell_type": "code",
      "metadata": {
        "id": "o9KGtuywL9rT"
      },
      "source": [
        "#gera os parâmetros iniciais para o otimizador\n",
        "parametrosIniciais = np.array([1.0, 1.0])\n"
      ],
      "execution_count": 4,
      "outputs": []
    },
    {
      "cell_type": "code",
      "metadata": {
        "id": "iN5NP65jMEM5"
      },
      "source": [
        "#realiza a otimização através do erro médio quadrado (MSE)\n",
        "parametrosOtimizados, pcov = curve_fit(equacaoLinear, xData, yData, parametrosIniciais)\n",
        "#parametrosOtimizados - contém os parâmetros de ajuste da curva\n",
        "#pcov - contém a covariância dos parâmetros encontrados\n"
      ],
      "execution_count": 6,
      "outputs": []
    },
    {
      "cell_type": "code",
      "metadata": {
        "id": "85QcNWBsHeX_",
        "colab": {
          "base_uri": "https://localhost:8080/"
        },
        "outputId": "276b9f39-eda9-4225-ca99-9521a54fe5b7"
      },
      "source": [
        "parametrosOtimizados"
      ],
      "execution_count": 7,
      "outputs": [
        {
          "output_type": "execute_result",
          "data": {
            "text/plain": [
              "array([ 1320.53256667, -6627.65171673])"
            ]
          },
          "metadata": {
            "tags": []
          },
          "execution_count": 7
        }
      ]
    },
    {
      "cell_type": "code",
      "metadata": {
        "id": "WEQYYk1yMMer"
      },
      "source": [
        "#realiza a previsão dos dados através do modelo (constrói a equação linear)\n",
        "pervisaoModelo = equacaoLinear(xData, *parametrosOtimizados) #utiliza a função linear com os parâmetros otimizados\n"
      ],
      "execution_count": 8,
      "outputs": []
    },
    {
      "cell_type": "code",
      "metadata": {
        "id": "gRCipFZcMyFX"
      },
      "source": [
        "#encontra o erro absoluto (linhas verticais)\n",
        "erroAbsoluto = pervisaoModelo - yData #(valor previsto - valor real)\n"
      ],
      "execution_count": 9,
      "outputs": []
    },
    {
      "cell_type": "code",
      "metadata": {
        "id": "klbnW7zCND0f",
        "colab": {
          "base_uri": "https://localhost:8080/"
        },
        "outputId": "f5acaaba-bf32-4cca-83d3-d1b00cebd30a"
      },
      "source": [
        "#calcula o erro quadrado entre cada medida\n",
        "SE = np.square(erroAbsoluto) \n",
        "#calcula o MSE\n",
        "MSE = np.mean(SE) \n",
        "print('SE: ', SE)\n",
        "print('MSE: ', MSE)\n",
        "\n"
      ],
      "execution_count": 10,
      "outputs": [
        {
          "output_type": "stream",
          "text": [
            "SE:  [ 4587883.33064101  6834760.82563804   413069.18137435   634115.64144357\n",
            " 18436761.23538558  4467167.3659006   1517955.21070226  1424802.59030848\n",
            "   873982.13514337 15601891.57382987]\n",
            "MSE:  5479238.909036714\n"
          ],
          "name": "stdout"
        }
      ]
    },
    {
      "cell_type": "code",
      "metadata": {
        "id": "vQpeeAaTNkVw",
        "colab": {
          "base_uri": "https://localhost:8080/"
        },
        "outputId": "db4f81aa-5572-43fa-c095-514fb9e22d63"
      },
      "source": [
        "#realiza o cálculo do coeficiente de determinação\n",
        "Rsquared = 1.0 - (np.var(erroAbsoluto) / np.var(yData)) #numpy.var - encontra a variância entre os dados do vetor\n",
        "print('Coeficiente de Determinação:', Rsquared)"
      ],
      "execution_count": 11,
      "outputs": [
        {
          "output_type": "stream",
          "text": [
            "Coeficiente de Determinação: 0.9846300347582353\n"
          ],
          "name": "stdout"
        }
      ]
    },
    {
      "cell_type": "code",
      "metadata": {
        "id": "icuiNsUvQxiw",
        "colab": {
          "base_uri": "https://localhost:8080/"
        },
        "outputId": "27ed5dcf-4d45-4a4a-b88c-6ed7d425dfd5"
      },
      "source": [
        "#mostra os parâmetros da regressão\n",
        "print('Y = {}X {}'.format(parametrosOtimizados[0],parametrosOtimizados[1]))"
      ],
      "execution_count": 12,
      "outputs": [
        {
          "output_type": "stream",
          "text": [
            "Y = 1320.5325666669085X -6627.651716729711\n"
          ],
          "name": "stdout"
        }
      ]
    },
    {
      "cell_type": "code",
      "metadata": {
        "id": "nyKuCk5KOAIP",
        "colab": {
          "base_uri": "https://localhost:8080/",
          "height": 399
        },
        "outputId": "c1dbeb2e-1dea-4a1f-f9ae-161bb8c6fe97"
      },
      "source": [
        "#realiza o plot da figura\n",
        "f = plt.figure(figsize=(4, 4), dpi=100) #indica o tamanho da figura\n",
        "axes = f.add_subplot(111) #cria os objetos para o subplot\n",
        "\n",
        "#realiza o plot dos dados (pontos no gráfico)\n",
        "axes.plot(xData, yData,'ro')\n",
        "\n",
        "#cria os dados para serem utilizados na construção da linha (equação) \n",
        "xModel = np.linspace(min(xData), max(xData)) #encontra os valores maximos e mínimos da \"linha\"\n",
        "yModel = equacaoLinear(xModel, *parametrosOtimizados) # acplica a função com os parâmetros obtidos\n",
        "\n",
        "#realiza o plot da linha\n",
        "axes.plot(xModel, yModel)\n",
        "plt.xlabel(\"Idade\")\n",
        "plt.ylabel(\"Salário Anual (R$)\")"
      ],
      "execution_count": 13,
      "outputs": [
        {
          "output_type": "execute_result",
          "data": {
            "text/plain": [
              "Text(0, 0.5, 'Salário Anual (R$)')"
            ]
          },
          "metadata": {
            "tags": []
          },
          "execution_count": 13
        },
        {
          "output_type": "display_data",
          "data": {
            "image/png": "[encoded data removed]",
            "text/plain": [
              "<Figure size 400x400 with 1 Axes>"
            ]
          },
          "metadata": {
            "tags": [],
            "needs_background": "light"
          }
        }
      ]
    },
    {
      "cell_type": "markdown",
      "metadata": {
        "id": "kcAXKpE3UB51"
      },
      "source": [
        "**Agora veremos como o mesmo código ficaria com a utilização do Sklearn**"
      ]
    },
    {
      "cell_type": "code",
      "metadata": {
        "id": "N6kaanJ-P3JM"
      },
      "source": [
        "#utiliza as funções do sklearn para construir a regressão linear\n",
        "from sklearn.linear_model import LinearRegression\n",
        "from sklearn.metrics import mean_squared_error"
      ],
      "execution_count": 14,
      "outputs": []
    },
    {
      "cell_type": "code",
      "metadata": {
        "id": "0ZrYHOdjQHDe"
      },
      "source": [
        "reg= LinearRegression() #objeto para a regressão linear\n",
        "x_ModeloSklern=xData.reshape((-1, 1)) #na regressão linear é necessário que o X seja 2D\n",
        "regressao= reg.fit (x_ModeloSklern,yData) #realiza a regressão"
      ],
      "execution_count": 15,
      "outputs": []
    },
    {
      "cell_type": "code",
      "metadata": {
        "id": "uVDHTZAwSKO2"
      },
      "source": [
        "previsao=reg.predict(x_ModeloSklern)"
      ],
      "execution_count": 16,
      "outputs": []
    },
    {
      "cell_type": "code",
      "metadata": {
        "id": "ZsZFiD0URzrs",
        "colab": {
          "base_uri": "https://localhost:8080/"
        },
        "outputId": "48bf68a6-7ad1-492b-fcc2-7c36b51bc36b"
      },
      "source": [
        "MSE= mean_squared_error(yData,previsao) #encontra o MSE através do sklearn\n",
        "print('MSE: ', MSE)"
      ],
      "execution_count": 17,
      "outputs": [
        {
          "output_type": "stream",
          "text": [
            "MSE:  5479238.909036706\n"
          ],
          "name": "stdout"
        }
      ]
    },
    {
      "cell_type": "code",
      "metadata": {
        "id": "KwHDu49MSqrS",
        "colab": {
          "base_uri": "https://localhost:8080/"
        },
        "outputId": "f1bdf7a7-ed14-4345-be91-0273f4d84ca8"
      },
      "source": [
        "#parâmetros encontrados\n",
        "print('Y = {}X {}'.format(reg.coef_,reg.intercept_))\n",
        "\n",
        "from sklearn.metrics import r2_score #método para o cálculo do R2\n",
        "\n",
        "R_2 = r2_score(yData, previsao)  #realiza o cálculo do R2\n",
        "\n",
        "print(\"Coeficiente de Determinação (R2):\", R_2)\n"
      ],
      "execution_count": 18,
      "outputs": [
        {
          "output_type": "stream",
          "text": [
            "Y = [1320.53256496]X -6627.651646877624\n",
            "Coeficiente de Determinação (R2): 0.9846300347582353\n"
          ],
          "name": "stdout"
        }
      ]
    },
    {
      "cell_type": "markdown",
      "metadata": {
        "id": "cpuvt2kTT4Yn"
      },
      "source": [
        "**Agora vamos realizar a construção de uma regressão para um banco de dados real (mais complexo)**"
      ]
    },
    {
      "cell_type": "code",
      "metadata": {
        "id": "hBaG8ElKTTGy"
      },
      "source": [
        "#regressão utilizando um BD mais complexo\n",
        "import pandas as pd\n"
      ],
      "execution_count": 19,
      "outputs": []
    },
    {
      "cell_type": "code",
      "metadata": {
        "id": "e5GCyid2TcCE"
      },
      "source": [
        "#função utilizada apenas para realizar o upload dos dados para o google colab\n",
        "from google.colab import files\n",
        "uploaded = files.upload()"
      ],
      "execution_count": null,
      "outputs": []
    },
    {
      "cell_type": "code",
      "metadata": {
        "id": "rIRhiDjXTkL-"
      },
      "source": [
        "#realiza a leitura do banco de dados\n",
        "data=pd.read_csv(\"headbrain.csv\")\n",
        "data.head()  #realiza visualização das 5 primeiras linhas do BD"
      ],
      "execution_count": null,
      "outputs": []
    },
    {
      "cell_type": "code",
      "metadata": {
        "id": "F1sEYTloUPOE"
      },
      "source": [
        "#como o formato dos dados em cada uma das colunas do dataframe são séries é necessário converter array\n",
        "x=data[\"Head Size(cm^3)\"].values\n",
        "y=data[\"Brain Weight(grams)\"].values"
      ],
      "execution_count": null,
      "outputs": []
    },
    {
      "cell_type": "code",
      "metadata": {
        "id": "dgMiVz78UpUy"
      },
      "source": [
        "#realiza a construção do modelo de regressão\n",
        "reg= LinearRegression()\n",
        "x_Reshaped=x.reshape((-1, 1)) #coloca os dados no formato 2D\n",
        "regressao= reg.fit (x_Reshaped,y) #encontra os coeficientes (realiza a regressão)"
      ],
      "execution_count": null,
      "outputs": []
    },
    {
      "cell_type": "code",
      "metadata": {
        "id": "1YmoYMelUwdu"
      },
      "source": [
        "#realiza a previsão\n",
        "previsao=reg.predict(x_Reshaped)"
      ],
      "execution_count": null,
      "outputs": []
    },
    {
      "cell_type": "code",
      "metadata": {
        "id": "e1z1RPNWWx7i"
      },
      "source": [
        "#parâmetros encontrados\n",
        "print('Y = {}X {}'.format(reg.coef_,reg.intercept_))\n",
        "\n",
        "R_2 = r2_score(y, previsao) #realiza o cálculo do R2\n",
        "\n",
        "print(\"Coeficiente de Determinação (R2):\", R_2)\n"
      ],
      "execution_count": null,
      "outputs": []
    },
    {
      "cell_type": "code",
      "metadata": {
        "id": "yHZZM5sQV7fV"
      },
      "source": [
        "#realiza o plot dos dados\n",
        "plt.figure(figsize=(4, 4), dpi=100)\n",
        "plt.scatter(x, y,  color='gray') #realiza o plot do gráfico de dispersão\n",
        "plt.plot(x, previsao, color='red', linewidth=2) #realiza o plot da linha\n",
        "plt.xlabel(\"Head Size(cm^3)\")\n",
        "plt.ylabel(\"Brain Weight(grams)\")\n",
        "plt.show()"
      ],
      "execution_count": null,
      "outputs": []
    }
  ]
}